{
 "cells": [
  {
   "cell_type": "code",
   "execution_count": null,
   "id": "73948e3c-22f9-44f2-8ae3-eeea509efc19",
   "metadata": {},
   "outputs": [],
   "source": [
    "# Python Fundamentals\n",
    "# Source: https://www.geeksforgeeks.org/python-basics/"
   ]
  },
  {
   "cell_type": "code",
   "execution_count": 2,
   "id": "8256a7fe-9bd4-4755-adbc-64ab1b811914",
   "metadata": {},
   "outputs": [
    {
     "name": "stdout",
     "output_type": "stream",
     "text": [
      "This is X 5\n",
      "This is Y Barry\n"
     ]
    }
   ],
   "source": [
    "x = 5 \n",
    "y = 'Barry'\n",
    "print(\"This is X\", x)\n",
    "print(\"This is Y\", y)"
   ]
  },
  {
   "cell_type": "code",
   "execution_count": null,
   "id": "ba75b539-ae22-4a2e-a7f7-b27a628b4611",
   "metadata": {},
   "outputs": [],
   "source": [
    "# Casting\n",
    "# Specify the data type of the variables"
   ]
  },
  {
   "cell_type": "code",
   "execution_count": 27,
   "id": "b987eea3-caa0-4c4d-bef7-3d8f3645ba93",
   "metadata": {},
   "outputs": [
    {
     "name": "stdout",
     "output_type": "stream",
     "text": [
      "3\n",
      "3\n",
      "3.0\n"
     ]
    }
   ],
   "source": [
    "x = str(3)   # this is equal to '3'\n",
    "y = int(3)   # this is equal to 3\n",
    "z = float(3) # this is equal to 3.0\n",
    "print(x)\n",
    "print(y)\n",
    "print(z)"
   ]
  },
  {
   "cell_type": "code",
   "execution_count": null,
   "id": "bb0423e3-2d9c-4e3a-b514-2783269bed76",
   "metadata": {},
   "outputs": [],
   "source": [
    "# Get the type"
   ]
  },
  {
   "cell_type": "code",
   "execution_count": null,
   "id": "496818bc-8642-4739-afea-82e0fd94caef",
   "metadata": {},
   "outputs": [],
   "source": [
    "x = 5 \n",
    "y = 'Barry'\n",
    "print(type(x))\n",
    "print(type(y))"
   ]
  },
  {
   "cell_type": "code",
   "execution_count": 2,
   "id": "1498cef1-2905-4321-9b62-75922f250f13",
   "metadata": {},
   "outputs": [
    {
     "name": "stdout",
     "output_type": "stream",
     "text": [
      "<class 'str'>\n",
      "<class 'int'>\n",
      "<class 'float'>\n",
      "<class 'complex'>\n",
      "<class 'list'>\n",
      "<class 'tuple'>\n",
      "<class 'dict'>\n",
      "<class 'set'>\n",
      "<class 'bool'>\n",
      "<class 'bytes'>\n"
     ]
    }
   ],
   "source": [
    "a = \"Hello World\" \n",
    "b = 50\n",
    "c = 60.5\n",
    "d = 3j\n",
    "e = [\"geeks\", \"for\", \"geeks\"]\n",
    "f = (\"geeks\", \"for\", \"geeks\")\n",
    "g = {\"name\": \"Suraj\", \"age\": 24}\n",
    "h = {\"geeks\", \"for\", \"geeks\"}\n",
    "i = True \n",
    "j = b\"Geeks\"\n",
    "\n",
    "print(type(a))\n",
    "print(type(b))\n",
    "print(type(c))\n",
    "print(type(d))\n",
    "print(type(e))\n",
    "print(type(f))\n",
    "print(type(g))\n",
    "print(type(h))\n",
    "print(type(i))\n",
    "print(type(j))\n"
   ]
  },
  {
   "cell_type": "code",
   "execution_count": 2,
   "id": "a4084daa-3c83-474e-8bf5-64dd2b37983d",
   "metadata": {},
   "outputs": [],
   "source": [
    "# Python Input/Output"
   ]
  },
  {
   "cell_type": "code",
   "execution_count": 4,
   "id": "5a1aef15-e039-4c97-9c8e-341f840b4066",
   "metadata": {},
   "outputs": [
    {
     "name": "stdout",
     "output_type": "stream",
     "text": [
      "Enter a value for x: Hi\n"
     ]
    },
    {
     "name": "stdout",
     "output_type": "stream",
     "text": [
      "Hi\n"
     ]
    }
   ],
   "source": [
    "x = input(\"Enter a value for x:\")\n",
    "print(x)"
   ]
  },
  {
   "cell_type": "code",
   "execution_count": 5,
   "id": "88a0dc98-7ae9-4568-bc6f-ebb19a25edfc",
   "metadata": {},
   "outputs": [],
   "source": [
    "# Python Arithmetic Operator"
   ]
  },
  {
   "cell_type": "code",
   "execution_count": 7,
   "id": "02d1e42e-638d-41b8-b70f-ea1e9a3acdf0",
   "metadata": {},
   "outputs": [
    {
     "name": "stdout",
     "output_type": "stream",
     "text": [
      "14\n",
      "6\n",
      "40\n",
      "2\n",
      "10000\n"
     ]
    }
   ],
   "source": [
    "a = 10\n",
    "b = 4\n",
    "\n",
    "add = a + b\n",
    "sub = a - b\n",
    "mul = a * b\n",
    "mod = a % b\n",
    "p = a ** b\n",
    "\n",
    "print(add)\n",
    "print(sub)\n",
    "print(mul)\n",
    "print(mod)\n",
    "print(p)"
   ]
  },
  {
   "cell_type": "code",
   "execution_count": 8,
   "id": "2db2c42e-1761-491f-94fd-dc962235b435",
   "metadata": {},
   "outputs": [],
   "source": [
    "# Logical Operators"
   ]
  },
  {
   "cell_type": "code",
   "execution_count": 9,
   "id": "79c2d691-1be2-40e8-b8e5-d7d36e2790c8",
   "metadata": {},
   "outputs": [
    {
     "name": "stdout",
     "output_type": "stream",
     "text": [
      "False\n",
      "True\n",
      "False\n",
      "True\n"
     ]
    }
   ],
   "source": [
    "a = True\n",
    "b = False\n",
    "\n",
    "print(a and b)\n",
    "print(a or b)\n",
    "print(not a)\n",
    "print(not b)\n"
   ]
  },
  {
   "cell_type": "code",
   "execution_count": 11,
   "id": "656c1de1-bd19-43eb-9063-de4d76f84719",
   "metadata": {},
   "outputs": [],
   "source": [
    "# Python IF-Else"
   ]
  },
  {
   "cell_type": "code",
   "execution_count": 16,
   "id": "648dc65b-0291-474c-97b3-3adfb663fac5",
   "metadata": {},
   "outputs": [
    {
     "name": "stdout",
     "output_type": "stream",
     "text": [
      "It is 20\n"
     ]
    }
   ],
   "source": [
    "x = 20 \n",
    "if (x == 10):\n",
    "    print(\"it is 10\")\n",
    "elif (x == 15):\n",
    "    print(\"It is 15\")\n",
    "else:\n",
    "    print(\"It is 20\")"
   ]
  },
  {
   "cell_type": "code",
   "execution_count": 18,
   "id": "a6c72d08-91e1-4faf-be30-296ceb47def5",
   "metadata": {},
   "outputs": [
    {
     "name": "stdout",
     "output_type": "stream",
     "text": [
      "0\n",
      "2\n",
      "4\n",
      "6\n",
      "8\n"
     ]
    }
   ],
   "source": [
    "for i in range(0, 10, 2):\n",
    "    print(i)"
   ]
  },
  {
   "cell_type": "code",
   "execution_count": 1,
   "id": "32795148-6e51-4887-a19c-f9343f545b41",
   "metadata": {},
   "outputs": [
    {
     "name": "stdout",
     "output_type": "stream",
     "text": [
      "1\n",
      "2\n",
      "3\n",
      "4\n",
      "5\n",
      "6\n",
      "7\n",
      "8\n",
      "9\n",
      "10\n"
     ]
    }
   ],
   "source": [
    "count  = 0 \n",
    "while (count < 10):\n",
    "    count = count + 1\n",
    "    print(count)"
   ]
  },
  {
   "cell_type": "code",
   "execution_count": 21,
   "id": "6a4f7bef-d76b-4781-812a-ca39d6b70cd4",
   "metadata": {},
   "outputs": [],
   "source": [
    "# Python Functions"
   ]
  },
  {
   "cell_type": "code",
   "execution_count": 26,
   "id": "2be62305-8f28-4fc1-afd4-e3856c0a863f",
   "metadata": {},
   "outputs": [
    {
     "name": "stdout",
     "output_type": "stream",
     "text": [
      "event\n",
      "odd\n"
     ]
    }
   ],
   "source": [
    "def evenOdd(x):\n",
    "    if(x % 2 == 0):\n",
    "        print(\"event\")\n",
    "    else:\n",
    "        print(\"odd\")\n",
    "\n",
    "evenOdd(2)\n",
    "evenOdd(3)"
   ]
  }
 ],
 "metadata": {
  "kernelspec": {
   "display_name": "Python 3",
   "language": "python",
   "name": "python3"
  },
  "language_info": {
   "codemirror_mode": {
    "name": "ipython",
    "version": 3
   },
   "file_extension": ".py",
   "mimetype": "text/x-python",
   "name": "python",
   "nbconvert_exporter": "python",
   "pygments_lexer": "ipython3",
   "version": "3.13.0"
  }
 },
 "nbformat": 4,
 "nbformat_minor": 5
}
