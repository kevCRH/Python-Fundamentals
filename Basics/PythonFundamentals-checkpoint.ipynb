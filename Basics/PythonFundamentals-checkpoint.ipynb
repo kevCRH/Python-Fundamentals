{
 "cells": [
  {
   "cell_type": "code",
   "execution_count": null,
   "id": "73948e3c-22f9-44f2-8ae3-eeea509efc19",
   "metadata": {},
   "outputs": [],
   "source": [
    "# Python Fundamentals\n",
    "# Source: https://www.geeksforgeeks.org/python-basics/"
   ]
  },
  {
   "cell_type": "code",
   "execution_count": 1,
   "id": "8256a7fe-9bd4-4755-adbc-64ab1b811914",
   "metadata": {},
   "outputs": [
    {
     "name": "stdout",
     "output_type": "stream",
     "text": [
      "This is X 5\n",
      "This is Y Barry\n"
     ]
    }
   ],
   "source": [
    "x = 5 \n",
    "y = 'Barry'\n",
    "print(\"This is X\", x)\n",
    "print(\"This is Y\", y)"
   ]
  },
  {
   "cell_type": "code",
   "execution_count": null,
   "id": "ba75b539-ae22-4a2e-a7f7-b27a628b4611",
   "metadata": {},
   "outputs": [],
   "source": [
    "# Casting\n",
    "# Specify the data type of the variables"
   ]
  },
  {
   "cell_type": "code",
   "execution_count": null,
   "id": "b987eea3-caa0-4c4d-bef7-3d8f3645ba93",
   "metadata": {},
   "outputs": [],
   "source": [
    "x = str(3)   # this is equal to '3'\n",
    "y = int(3)   # this is equal to 3\n",
    "z = float(3) # this is equal to 3.0\n",
    "print(x)\n",
    "print(y)\n",
    "print(z)"
   ]
  },
  {
   "cell_type": "code",
   "execution_count": null,
   "id": "bb0423e3-2d9c-4e3a-b514-2783269bed76",
   "metadata": {},
   "outputs": [],
   "source": [
    "# Get the type"
   ]
  },
  {
   "cell_type": "code",
   "execution_count": null,
   "id": "496818bc-8642-4739-afea-82e0fd94caef",
   "metadata": {},
   "outputs": [],
   "source": [
    "x = 5 \n",
    "y = 'Barry'\n",
    "print(type(x))\n",
    "print(type(y))"
   ]
  },
  {
   "cell_type": "code",
   "execution_count": 2,
   "id": "1498cef1-2905-4321-9b62-75922f250f13",
   "metadata": {},
   "outputs": [
    {
     "name": "stdout",
     "output_type": "stream",
     "text": [
      "<class 'str'>\n",
      "<class 'int'>\n",
      "<class 'float'>\n",
      "<class 'complex'>\n",
      "<class 'list'>\n",
      "<class 'tuple'>\n",
      "<class 'dict'>\n",
      "<class 'set'>\n",
      "<class 'bool'>\n",
      "<class 'bytes'>\n"
     ]
    }
   ],
   "source": [
    "a = \"Hello World\" \n",
    "b = 50\n",
    "c = 60.5\n",
    "d = 3j\n",
    "e = [\"geeks\", \"for\", \"geeks\"]\n",
    "f = (\"geeks\", \"for\", \"geeks\")\n",
    "g = {\"name\": \"Suraj\", \"age\": 24}\n",
    "h = {\"geeks\", \"for\", \"geeks\"}\n",
    "i = True \n",
    "j = b\"Geeks\"\n",
    "\n",
    "print(type(a))\n",
    "print(type(b))\n",
    "print(type(c))\n",
    "print(type(d))\n",
    "print(type(e))\n",
    "print(type(f))\n",
    "print(type(g))\n",
    "print(type(h))\n",
    "print(type(i))\n",
    "print(type(j))\n"
   ]
  },
  {
   "cell_type": "code",
   "execution_count": null,
   "id": "a4084daa-3c83-474e-8bf5-64dd2b37983d",
   "metadata": {},
   "outputs": [],
   "source": []
  }
 ],
 "metadata": {
  "kernelspec": {
   "display_name": "Python 3 (ipykernel)",
   "language": "python",
   "name": "python3"
  },
  "language_info": {
   "codemirror_mode": {
    "name": "ipython",
    "version": 3
   },
   "file_extension": ".py",
   "mimetype": "text/x-python",
   "name": "python",
   "nbconvert_exporter": "python",
   "pygments_lexer": "ipython3",
   "version": "3.13.0"
  }
 },
 "nbformat": 4,
 "nbformat_minor": 5
}
