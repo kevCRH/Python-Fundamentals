{
 "cells": [
  {
   "cell_type": "code",
   "execution_count": 1,
   "metadata": {},
   "outputs": [
    {
     "name": "stdout",
     "output_type": "stream",
     "text": [
      "Error: Cannot divide by zero\n",
      "outside of try and except block\n"
     ]
    }
   ],
   "source": [
    "# using Try- except \n",
    "try:\n",
    "    # Attempting to divide 10 by 0\n",
    "    result = 10 / 0\n",
    "except ZeroDivisionError:\n",
    "    # Handling the ZeroDivisionError and printing an error message\n",
    "    print(\"Error: Cannot divide by zero\")\n",
    "# This line will be executed regardless of whether an exception occurred\n",
    "print(\"outside of try and except block\")"
   ]
  },
  {
   "cell_type": "code",
   "execution_count": 6,
   "metadata": {},
   "outputs": [
    {
     "name": "stdout",
     "output_type": "stream",
     "text": [
      "Success a= 1.0\n",
      "You did not provide a number\n"
     ]
    }
   ],
   "source": [
    "a = 1\n",
    "\n",
    "def excep(a):\n",
    "    try:\n",
    "        b = int(a)\n",
    "        a = a/b\n",
    "        print(\"Success a=\",a)\n",
    "    except ZeroDivisionError:\n",
    "        print(\"The number you provided cant divide 1 because it is 0\")\n",
    "    except ValueError:\n",
    "        print(\"You did not provide a number\")\n",
    "    except:\n",
    "        print(\"Something went wrong\")\n",
    "\n",
    "excep(1)\n",
    "excep(\"b\")"
   ]
  },
  {
   "cell_type": "code",
   "execution_count": 8,
   "metadata": {},
   "outputs": [
    {
     "name": "stdout",
     "output_type": "stream",
     "text": [
      "success a= 1.0\n",
      "Processing Complete\n"
     ]
    }
   ],
   "source": [
    "a = 1\n",
    "\n",
    "\n",
    "def excep2(a):\n",
    "    try:\n",
    "        b = int(a)\n",
    "        a = a/b\n",
    "    except ZeroDivisionError:\n",
    "        print(\"The number you provided cant divide 1 because it is 0\")\n",
    "    except ValueError:\n",
    "        print(\"You did not provide a number\")\n",
    "    except:\n",
    "        print(\"Something went wrong\")\n",
    "    else:\n",
    "        print(\"success a=\",a)\n",
    "    finally:\n",
    "        print(\"Processing Complete\")\n",
    "\n",
    "excep2(1)"
   ]
  },
  {
   "cell_type": "code",
   "execution_count": 10,
   "metadata": {},
   "outputs": [
    {
     "name": "stdout",
     "output_type": "stream",
     "text": [
      "Error: Invalid input! Please enter a positive integer or a float value.\n"
     ]
    }
   ],
   "source": [
    "import math\n",
    "\n",
    "def perform_calculation(number1):\n",
    "    try:\n",
    "        result = math.sqrt(number1)\n",
    "        print(f\"Result: {result}\")\n",
    "    except ValueError:\n",
    "        print(\"Error: Invalid input! Please enter a positive integer or a float value.\")\n",
    "# Test case\n",
    "perform_calculation(-1)"
   ]
  },
  {
   "cell_type": "code",
   "execution_count": 15,
   "metadata": {},
   "outputs": [
    {
     "name": "stdout",
     "output_type": "stream",
     "text": [
      "There was an error\n"
     ]
    }
   ],
   "source": [
    "def except3(ip):\n",
    "    try:\n",
    "        b = int(ip)\n",
    "        a = a / b\n",
    "        print(\"Success a =\", a)\n",
    "    except:\n",
    "        print(\"There was an error\")\n",
    "\n",
    "except3(0)"
   ]
  },
  {
   "cell_type": "code",
   "execution_count": null,
   "metadata": {},
   "outputs": [],
   "source": []
  }
 ],
 "metadata": {
  "kernelspec": {
   "display_name": "Python 3",
   "language": "python",
   "name": "python3"
  },
  "language_info": {
   "codemirror_mode": {
    "name": "ipython",
    "version": 3
   },
   "file_extension": ".py",
   "mimetype": "text/x-python",
   "name": "python",
   "nbconvert_exporter": "python",
   "pygments_lexer": "ipython3",
   "version": "3.13.0"
  }
 },
 "nbformat": 4,
 "nbformat_minor": 2
}
