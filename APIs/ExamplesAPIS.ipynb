{
 "cells": [
  {
   "cell_type": "code",
   "execution_count": 1,
   "metadata": {},
   "outputs": [],
   "source": [
    "from randomuser import RandomUser\n",
    "import pandas as pd"
   ]
  },
  {
   "cell_type": "code",
   "execution_count": 2,
   "metadata": {},
   "outputs": [],
   "source": [
    "r = RandomUser()"
   ]
  },
  {
   "cell_type": "code",
   "execution_count": 5,
   "metadata": {},
   "outputs": [
    {
     "data": {
      "text/plain": [
       "[<randomuser.RandomUser at 0x1a1fbe38e60>,\n",
       " <randomuser.RandomUser at 0x1a1fc00f4d0>,\n",
       " <randomuser.RandomUser at 0x1a1ff0abcb0>,\n",
       " <randomuser.RandomUser at 0x1a1ff141e60>,\n",
       " <randomuser.RandomUser at 0x1a1ff01fad0>,\n",
       " <randomuser.RandomUser at 0x1a1ff01fb90>,\n",
       " <randomuser.RandomUser at 0x1a1ff0a6830>,\n",
       " <randomuser.RandomUser at 0x1a1ff0a68e0>,\n",
       " <randomuser.RandomUser at 0x1a1fc025bd0>,\n",
       " <randomuser.RandomUser at 0x1a1f8ca79d0>]"
      ]
     },
     "execution_count": 5,
     "metadata": {},
     "output_type": "execute_result"
    }
   ],
   "source": [
    "some_list = r.generate_users(10)\n",
    "some_list"
   ]
  },
  {
   "cell_type": "code",
   "execution_count": 6,
   "metadata": {},
   "outputs": [],
   "source": [
    "name = r.get_full_name()"
   ]
  },
  {
   "cell_type": "code",
   "execution_count": 7,
   "metadata": {},
   "outputs": [
    {
     "name": "stdout",
     "output_type": "stream",
     "text": [
      "Rita Watkins   rita.watkins@example.com\n",
      "Arthur Washington   arthur.washington@example.com\n",
      "نیایش موسوی   nyysh.mwswy@example.com\n",
      "Mason Odonoghue   mason.odonoghue@example.com\n",
      "Terrence Cooper   terrence.cooper@example.com\n",
      "Idálio da Rosa   idalio.darosa@example.com\n",
      "Daisy Smith   daisy.smith@example.com\n",
      "Andrea Nielsen   andrea.nielsen@example.com\n",
      "Philip Kristensen   philip.kristensen@example.com\n",
      "Samuel Pelletier   samuel.pelletier@example.com\n"
     ]
    }
   ],
   "source": [
    "for user in some_list:\n",
    "    print (user.get_full_name(),\" \",user.get_email())\n",
    "    "
   ]
  },
  {
   "cell_type": "code",
   "execution_count": null,
   "metadata": {},
   "outputs": [],
   "source": []
  }
 ],
 "metadata": {
  "kernelspec": {
   "display_name": "Python 3",
   "language": "python",
   "name": "python3"
  },
  "language_info": {
   "codemirror_mode": {
    "name": "ipython",
    "version": 3
   },
   "file_extension": ".py",
   "mimetype": "text/x-python",
   "name": "python",
   "nbconvert_exporter": "python",
   "pygments_lexer": "ipython3",
   "version": "3.13.0"
  }
 },
 "nbformat": 4,
 "nbformat_minor": 2
}
