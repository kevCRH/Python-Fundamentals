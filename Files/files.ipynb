{
 "cells": [
  {
   "cell_type": "code",
   "execution_count": 3,
   "metadata": {},
   "outputs": [],
   "source": [
    "file = open('file.txt', 'r')"
   ]
  },
  {
   "cell_type": "code",
   "execution_count": 5,
   "metadata": {},
   "outputs": [
    {
     "name": "stdout",
     "output_type": "stream",
     "text": [
      "# Reading and Storing the Entire Content of a File\n",
      "# Using the read method, you can retrieve the complete content of a file\n",
      "# and store it as a string in a variable for further processing or display.\n",
      "# Step 1: Open the file you want to read\n"
     ]
    }
   ],
   "source": [
    "with open('file.txt', 'r') as file:\n",
    "    \n",
    "    file_stuff = file.read()\n",
    "    print(file_stuff)"
   ]
  },
  {
   "cell_type": "code",
   "execution_count": 9,
   "metadata": {},
   "outputs": [
    {
     "name": "stdout",
     "output_type": "stream",
     "text": [
      "# Reading and Storing the Entire Content of a File\n",
      "\n",
      "# Using the read method, you can retrieve the complete content of a file\n",
      "\n"
     ]
    }
   ],
   "source": [
    "file = open('file.txt', 'r')\n",
    "line1 = file.readline()\n",
    "line2 = file.readline()\n",
    "\n",
    "print(line1)\n",
    "print(line2)"
   ]
  },
  {
   "cell_type": "code",
   "execution_count": 13,
   "metadata": {},
   "outputs": [
    {
     "name": "stdout",
     "output_type": "stream",
     "text": [
      "This line contains: # Using the read method, you can retrieve the complete content of a file\n",
      "\n"
     ]
    }
   ],
   "source": [
    "if \"retrieve\" in line2:\n",
    "    print(\"This line contains:\", line2)"
   ]
  },
  {
   "cell_type": "code",
   "execution_count": 16,
   "metadata": {},
   "outputs": [],
   "source": [
    "while True: \n",
    "    line = file.readline()\n",
    "    if not line:\n",
    "        break\n",
    "    print(line)\n",
    "    file.close()"
   ]
  },
  {
   "cell_type": "code",
   "execution_count": 21,
   "metadata": {},
   "outputs": [
    {
     "name": "stdout",
     "output_type": "stream",
     "text": [
      "10\n"
     ]
    }
   ],
   "source": [
    "file = open('file.txt', 'r')\n",
    "print(file.seek(10))  # Move to the 11th byte (0-based index)"
   ]
  },
  {
   "cell_type": "code",
   "execution_count": 20,
   "metadata": {},
   "outputs": [
    {
     "name": "stdout",
     "output_type": "stream",
     "text": [
      "torin\n"
     ]
    }
   ],
   "source": [
    "characters = file.read(5)  # Read the next 5 characters\n",
    "print(characters)"
   ]
  },
  {
   "cell_type": "code",
   "execution_count": null,
   "metadata": {},
   "outputs": [],
   "source": []
  }
 ],
 "metadata": {
  "kernelspec": {
   "display_name": "Python 3",
   "language": "python",
   "name": "python3"
  },
  "language_info": {
   "codemirror_mode": {
    "name": "ipython",
    "version": 3
   },
   "file_extension": ".py",
   "mimetype": "text/x-python",
   "name": "python",
   "nbconvert_exporter": "python",
   "pygments_lexer": "ipython3",
   "version": "3.13.0"
  }
 },
 "nbformat": 4,
 "nbformat_minor": 2
}
