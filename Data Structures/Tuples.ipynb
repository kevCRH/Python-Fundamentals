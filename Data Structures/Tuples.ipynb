{
 "cells": [
  {
   "cell_type": "markdown",
   "metadata": {},
   "source": [
    "Tuples are an ordered sequence\n",
    "Also are written as comma-separated elements within parentheses"
   ]
  },
  {
   "cell_type": "code",
   "execution_count": 6,
   "metadata": {},
   "outputs": [
    {
     "name": "stdout",
     "output_type": "stream",
     "text": [
      "disco\n",
      "10\n",
      "1.2\n",
      "disco\n",
      "10\n",
      "1.2\n"
     ]
    }
   ],
   "source": [
    "tuple =  (10,9,20)\n",
    "\n",
    "tuple1 = ('disco', 10, 1.2)\n",
    "\n",
    "#type(tuple1)= tuple\n",
    "\n",
    "\n",
    "# get the element by index\n",
    "print(tuple1[0])\n",
    "print(tuple1[1])\n",
    "print(tuple1[2])\n",
    "\n",
    "print(tuple1[-3])\n",
    "print(tuple1[-2])\n",
    "print(tuple1[-1])\n"
   ]
  },
  {
   "cell_type": "code",
   "execution_count": 7,
   "metadata": {},
   "outputs": [
    {
     "name": "stdout",
     "output_type": "stream",
     "text": [
      "('disco', 10, 1.2, 'hard rock', 10)\n"
     ]
    }
   ],
   "source": [
    "# Concatenating\n",
    "\n",
    "tuple2 = tuple1 +(\"hard rock\", 10)\n",
    "print(tuple2)"
   ]
  },
  {
   "cell_type": "code",
   "execution_count": 8,
   "metadata": {},
   "outputs": [
    {
     "name": "stdout",
     "output_type": "stream",
     "text": [
      "('disco', 10, 1.2)\n",
      "('hard rock', 10)\n"
     ]
    }
   ],
   "source": [
    "#Slicing\n",
    "print(tuple2[0:3])\n",
    "print(tuple2[3:5])"
   ]
  },
  {
   "cell_type": "code",
   "execution_count": 9,
   "metadata": {},
   "outputs": [
    {
     "name": "stdout",
     "output_type": "stream",
     "text": [
      "5\n"
     ]
    }
   ],
   "source": [
    "#lent to know the size of the tuple\n",
    "print(len(tuple2))"
   ]
  },
  {
   "cell_type": "code",
   "execution_count": 12,
   "metadata": {},
   "outputs": [
    {
     "name": "stdout",
     "output_type": "stream",
     "text": [
      "ratings: (10, 29, 23, 2, 5)\n",
      "ratingsSorted: [2, 5, 10, 23, 29]\n"
     ]
    }
   ],
   "source": [
    "#Immutables\n",
    "ratings = (10,29,23,2,5)\n",
    "# ratings[0] = 2 set an error because tuples are immutable\n",
    "print(\"ratings:\", ratings)\n",
    "ratingsSorted = sorted(ratings)\n",
    "print(\"ratingsSorted:\", ratingsSorted)\n"
   ]
  },
  {
   "cell_type": "code",
   "execution_count": 21,
   "metadata": {},
   "outputs": [
    {
     "name": "stdout",
     "output_type": "stream",
     "text": [
      "(1, 2, ('pop', 'rock'), (3, 4), ('disco', (1, 2)))\n",
      "1\n",
      "2\n",
      "('pop', 'rock')\n",
      "(3, 4)\n",
      "('disco', (1, 2))\n",
      "pop\n",
      "rock\n",
      "3\n",
      "4\n",
      "disco\n",
      "(1, 2)\n"
     ]
    }
   ],
   "source": [
    "# Nesting - anidamiento \n",
    "\n",
    "NT = (1,2,('pop','rock'),(3,4),('disco',(1,2)))\n",
    "print(NT)\n",
    "\n",
    "print(NT[0])\n",
    "print(NT[1])\n",
    "print(NT[2])\n",
    "print(NT[3])\n",
    "print(NT[4])\n",
    "\n",
    "print(NT[2][0])\n",
    "print(NT[2][1])\n",
    "print(NT[3][0])\n",
    "print(NT[3][1])\n",
    "print(NT[4][0])\n",
    "print(NT[4][1])\n"
   ]
  },
  {
   "cell_type": "code",
   "execution_count": 22,
   "metadata": {},
   "outputs": [
    {
     "name": "stdout",
     "output_type": "stream",
     "text": [
      "will\n"
     ]
    }
   ],
   "source": [
    "say_what=('say','what','you','will') \n",
    "print(say_what[-1])"
   ]
  },
  {
   "cell_type": "code",
   "execution_count": 23,
   "metadata": {},
   "outputs": [
    {
     "name": "stdout",
     "output_type": "stream",
     "text": [
      "(2, 3, 4)\n"
     ]
    }
   ],
   "source": [
    "A=(1,2,3,4,5)\n",
    "print(A[1:4])"
   ]
  },
  {
   "cell_type": "code",
   "execution_count": 24,
   "metadata": {},
   "outputs": [
    {
     "data": {
      "text/plain": [
       "'b'"
      ]
     },
     "execution_count": 24,
     "metadata": {},
     "output_type": "execute_result"
    }
   ],
   "source": [
    "B=[1,2,[3,'a'],[4,'b']]\n",
    "B[3][1]"
   ]
  },
  {
   "cell_type": "code",
   "execution_count": 25,
   "metadata": {},
   "outputs": [
    {
     "name": "stdout",
     "output_type": "stream",
     "text": [
      "[1, 2, 3, 1, 1, 1]\n"
     ]
    }
   ],
   "source": [
    "print([1,2,3] + [1,1,1])"
   ]
  },
  {
   "cell_type": "code",
   "execution_count": 32,
   "metadata": {},
   "outputs": [
    {
     "name": "stdout",
     "output_type": "stream",
     "text": [
      "None\n"
     ]
    }
   ],
   "source": [
    "A = [1]\n",
    "print(A.append([2, 3, 4, 5]))"
   ]
  },
  {
   "cell_type": "code",
   "execution_count": null,
   "metadata": {},
   "outputs": [],
   "source": []
  }
 ],
 "metadata": {
  "kernelspec": {
   "display_name": "Python 3",
   "language": "python",
   "name": "python3"
  },
  "language_info": {
   "codemirror_mode": {
    "name": "ipython",
    "version": 3
   },
   "file_extension": ".py",
   "mimetype": "text/x-python",
   "name": "python",
   "nbconvert_exporter": "python",
   "pygments_lexer": "ipython3",
   "version": "3.13.0"
  }
 },
 "nbformat": 4,
 "nbformat_minor": 2
}
