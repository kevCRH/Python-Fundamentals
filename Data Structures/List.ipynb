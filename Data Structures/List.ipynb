{
 "cells": [
  {
   "cell_type": "code",
   "execution_count": 20,
   "metadata": {},
   "outputs": [
    {
     "name": "stdout",
     "output_type": "stream",
     "text": [
      "10\n",
      "9\n",
      "20\n",
      "10\n",
      "9\n",
      "20\n"
     ]
    }
   ],
   "source": [
    "#Lists\n",
    "\n",
    "List =  [10,9,20]\n",
    "\n",
    "List1 = ['disco', 10, 1.2]\n",
    "\n",
    "print(List[0])\n",
    "print(List[1])\n",
    "print(List[2])\n",
    "\n",
    "print(List[-3])\n",
    "print(List[-2])\n",
    "print(List[-1])"
   ]
  },
  {
   "cell_type": "code",
   "execution_count": 5,
   "metadata": {},
   "outputs": [
    {
     "name": "stdout",
     "output_type": "stream",
     "text": [
      "['disco', 10, 1.2, 'hard rock', 10]\n"
     ]
    }
   ],
   "source": [
    "List2 = List1 +[\"hard rock\", 10]\n",
    "print(List2)"
   ]
  },
  {
   "cell_type": "code",
   "execution_count": 6,
   "metadata": {},
   "outputs": [
    {
     "name": "stdout",
     "output_type": "stream",
     "text": [
      "['disco', 10, 1.2]\n",
      "['hard rock', 10]\n"
     ]
    }
   ],
   "source": [
    "print(List2[0:3])\n",
    "print(List2[3:5])"
   ]
  },
  {
   "cell_type": "code",
   "execution_count": 7,
   "metadata": {},
   "outputs": [
    {
     "name": "stdout",
     "output_type": "stream",
     "text": [
      "5\n"
     ]
    }
   ],
   "source": [
    "print(len(List2))"
   ]
  },
  {
   "cell_type": "code",
   "execution_count": 8,
   "metadata": {},
   "outputs": [
    {
     "name": "stdout",
     "output_type": "stream",
     "text": [
      "before [10, 29, 23, 2, 5]\n",
      "after [2, 29, 23, 2, 5]\n",
      "ratingsSorted: [2, 2, 5, 23, 29]\n"
     ]
    }
   ],
   "source": [
    "#Mutables\n",
    "ratings = [10,29,23,2,5]\n",
    "print(\"before\",ratings)\n",
    "ratings[0] = 2 \n",
    "print(\"after\", ratings)\n",
    "ratingsSorted = sorted(ratings)\n",
    "print(\"ratingsSorted:\", ratingsSorted)"
   ]
  },
  {
   "cell_type": "code",
   "execution_count": 10,
   "metadata": {},
   "outputs": [
    {
     "name": "stdout",
     "output_type": "stream",
     "text": [
      "[1, 2, ['pop', 'rock'], [3, 4], ['disco', [1, 2]]]\n",
      "1\n",
      "2\n",
      "['pop', 'rock']\n",
      "[3, 4]\n",
      "['disco', [1, 2]]\n",
      "pop\n",
      "rock\n",
      "3\n",
      "4\n",
      "disco\n",
      "[1, 2]\n"
     ]
    }
   ],
   "source": [
    "# Nesting - anidamiento \n",
    "\n",
    "NT = [1,2,['pop','rock'],[3,4],['disco',[1,2]]]\n",
    "print(NT)\n",
    "\n",
    "print(NT[0])\n",
    "print(NT[1])\n",
    "print(NT[2])\n",
    "print(NT[3])\n",
    "print(NT[4])\n",
    "\n",
    "print(NT[2][0])\n",
    "print(NT[2][1])\n",
    "print(NT[3][0])\n",
    "print(NT[3][1])\n",
    "print(NT[4][0])\n",
    "print(NT[4][1])"
   ]
  },
  {
   "cell_type": "code",
   "execution_count": 22,
   "metadata": {},
   "outputs": [
    {
     "name": "stdout",
     "output_type": "stream",
     "text": [
      "[10, 9, 20, 'pop', 10]\n",
      "[10, 9, 20, 'pop', 10, 'pop', 10]\n"
     ]
    }
   ],
   "source": [
    "# Mutable - adding with extended add the count of the values\n",
    "print(List)\n",
    "List.extend([\"pop\",10])\n",
    "print(List)\n"
   ]
  },
  {
   "cell_type": "code",
   "execution_count": 17,
   "metadata": {},
   "outputs": [
    {
     "name": "stdout",
     "output_type": "stream",
     "text": [
      "[10, 9, 20, 'pop', 10, ['rock', 12]]\n",
      "[10, 9, 20, 'pop', 10, ['rock', 12], ['rock', 12]]\n"
     ]
    }
   ],
   "source": [
    "# Mutable - append only add 1 index\n",
    "print(List)\n",
    "List.append([\"rock\",12])\n",
    "print(List)"
   ]
  },
  {
   "cell_type": "code",
   "execution_count": 23,
   "metadata": {},
   "outputs": [
    {
     "name": "stdout",
     "output_type": "stream",
     "text": [
      "['hard rock', 1, 1.2]\n",
      "[1, 1.2]\n"
     ]
    }
   ],
   "source": [
    "# Delete element of the array\n",
    "x = [\"hard rock\", 1, 1.2]\n",
    "print(x)\n",
    "del(x[0])\n",
    "print(x)"
   ]
  },
  {
   "cell_type": "code",
   "execution_count": 28,
   "metadata": {},
   "outputs": [
    {
     "name": "stdout",
     "output_type": "stream",
     "text": [
      "hard rock\n",
      "['hard', 'rock']\n",
      "A,B,C,D\n",
      "['A', 'B', 'C', 'D']\n"
     ]
    }
   ],
   "source": [
    "#Convert a string to a List\n",
    "y = 'hard rock'\n",
    "print(y)\n",
    "print(y.split())\n",
    "\n",
    "# split with by caracters\n",
    "i = \"A,B,C,D\"\n",
    "print(i)\n",
    "print(i.split(\",\"))"
   ]
  },
  {
   "cell_type": "code",
   "execution_count": null,
   "metadata": {},
   "outputs": [],
   "source": []
  }
 ],
 "metadata": {
  "kernelspec": {
   "display_name": "Python 3",
   "language": "python",
   "name": "python3"
  },
  "language_info": {
   "codemirror_mode": {
    "name": "ipython",
    "version": 3
   },
   "file_extension": ".py",
   "mimetype": "text/x-python",
   "name": "python",
   "nbconvert_exporter": "python",
   "pygments_lexer": "ipython3",
   "version": "3.13.0"
  }
 },
 "nbformat": 4,
 "nbformat_minor": 2
}
